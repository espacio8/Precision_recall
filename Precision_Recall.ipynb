{
 "cells": [
  {
   "cell_type": "code",
   "execution_count": 21,
   "metadata": {
    "scrolled": true
   },
   "outputs": [],
   "source": [
    "import pandas as pd\n",
    "import numpy as np\n",
    "def get_data (df=False):\n",
    "    n = 100 #кол-во рекомендаций\n",
    "    actual = np.arange(1, n+1, 1)\n",
    "    actual = [actual] * n\n",
    "    predict=[]\n",
    "    for i in range (1, n+1):\n",
    "        predict.append(np.array([i for i in range (1, i+1)]))\n",
    "    if df:\n",
    "        data = pd.DataFrame()\n",
    "        data['actual'] = actual\n",
    "        data['predict'] = predict\n",
    "        return data\n",
    "    return actual, predict"
   ]
  },
  {
   "cell_type": "code",
   "execution_count": 22,
   "metadata": {
    "scrolled": true
   },
   "outputs": [],
   "source": [
    "def precision(actual, predict):\n",
    "    numerator = np.intersect1d(actual, predict)\n",
    "    return numerator.shape[0]/predict.shape[0]\n",
    "\n",
    "df = get_data(df=True)\n",
    "\n",
    "def avg_precision(df):\n",
    "    precisions = []\n",
    "    for i, (actual, predict) in df.iterrows():\n",
    "        prec = precision(actual, predict)\n",
    "        precisions.append(prec)\n",
    "    return np.mean(precisions)"
   ]
  },
  {
   "cell_type": "code",
   "execution_count": 23,
   "metadata": {
    "scrolled": true
   },
   "outputs": [],
   "source": [
    "def recall(actual, predict):\n",
    "    numerator = np.intersect1d(actual, predict)\n",
    "    return numerator.shape[0]/actual.shape[0]\n",
    "\n",
    "df = get_data(df=True)\n",
    "\n",
    "def avg_recall(df):\n",
    "    recalls = []\n",
    "    for i, (actual, predict) in df.iterrows():\n",
    "        rec = recall(actual, predict)\n",
    "        recalls.append(rec)\n",
    "    return np.mean(recalls)"
   ]
  },
  {
   "cell_type": "code",
   "execution_count": 25,
   "metadata": {},
   "outputs": [
    {
     "data": {
      "text/plain": [
       "1.0"
      ]
     },
     "execution_count": 25,
     "metadata": {},
     "output_type": "execute_result"
    }
   ],
   "source": [
    "avg_precision(df)"
   ]
  },
  {
   "cell_type": "code",
   "execution_count": 26,
   "metadata": {},
   "outputs": [
    {
     "data": {
      "text/plain": [
       "0.505"
      ]
     },
     "execution_count": 26,
     "metadata": {},
     "output_type": "execute_result"
    }
   ],
   "source": [
    "avg_recall(df)"
   ]
  }
 ],
 "metadata": {
  "kernelspec": {
   "display_name": "Python 3",
   "language": "python",
   "name": "python3"
  },
  "language_info": {
   "codemirror_mode": {
    "name": "ipython",
    "version": 3
   },
   "file_extension": ".py",
   "mimetype": "text/x-python",
   "name": "python",
   "nbconvert_exporter": "python",
   "pygments_lexer": "ipython3",
   "version": "3.8.5"
  }
 },
 "nbformat": 4,
 "nbformat_minor": 4
}
